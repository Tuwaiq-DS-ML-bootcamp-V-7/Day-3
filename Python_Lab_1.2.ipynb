{
 "cells": [
  {
   "cell_type": "markdown",
   "metadata": {},
   "source": [
    "# Python_Lab_1.2"
   ]
  },
  {
   "cell_type": "markdown",
   "metadata": {},
   "source": [
    "### Task 1: \n",
    "1. Create a tuple with the following details:\n",
    "    - Your favorite movie (string)\n",
    "    - The year it was released (integer)\n",
    "    - Its rating out of 10 (float)\n",
    "    - Whether you have watched it (boolean)\n",
    "2. Print the detailes"
   ]
  },
  {
   "cell_type": "code",
   "execution_count": 1,
   "metadata": {},
   "outputs": [
    {
     "name": "stdout",
     "output_type": "stream",
     "text": [
      "('Hunger and success', 2023, 6, True)\n"
     ]
    }
   ],
   "source": [
    "# write your code here ^_^\n",
    "my_fav_movie=(\"Hunger and success\",2023,6 ,True)\n",
    "print(my_fav_movie)"
   ]
  },
  {
   "cell_type": "markdown",
   "metadata": {},
   "source": [
    "### Task 2:\n",
    "1. Create a set of 5 favorite colors.\n",
    "2. Print all the colors"
   ]
  },
  {
   "cell_type": "code",
   "execution_count": 2,
   "metadata": {},
   "outputs": [
    {
     "name": "stdout",
     "output_type": "stream",
     "text": [
      "black\n",
      "green\n",
      "yellow\n",
      "blue\n",
      "pink\n"
     ]
    }
   ],
   "source": [
    "my_fav_color={\"pink\",\"green\",\"blue\",\"black\",\"yellow\"}\n",
    "\n",
    "for x in my_fav_color:\n",
    "    print(x)"
   ]
  },
  {
   "cell_type": "markdown",
   "metadata": {},
   "source": [
    "### Task 3:\n",
    "1. Create a dictionary to store information about 3 friends (name as key and a tuple with age and favorite hobby as value).\n",
    "2. Print the details of all friends."
   ]
  },
  {
   "cell_type": "code",
   "execution_count": 3,
   "metadata": {},
   "outputs": [
    {
     "name": "stdout",
     "output_type": "stream",
     "text": [
      "22 Cycling\n",
      "23 Reading\n",
      "23 Drawing\n"
     ]
    }
   ],
   "source": [
    "my_friends ={\"Hms\":(22,\"Cycling\"),\"Dana\":(23,\"Reading\"),\"Amani\":(23,\"Drawing\")}\n",
    "\n",
    "for age, hobby in my_friends.values():\n",
    "    print(age, hobby)"
   ]
  },
  {
   "cell_type": "markdown",
   "metadata": {},
   "source": [
    "### Task 4:\n",
    "1. Check if you have watched the movie and print an appropriate message.\n",
    "1. Check if a specific color is in your favorite colors set and print its availability status."
   ]
  },
  {
   "cell_type": "code",
   "execution_count": 6,
   "metadata": {},
   "outputs": [
    {
     "name": "stdout",
     "output_type": "stream",
     "text": [
      "Yes i watched the movie Hunger and Success\n"
     ]
    }
   ],
   "source": [
    "\n",
    "movies = [\" Hunger and Success\", \"From\", \"House\", \"The lawyer\"]\n",
    "\n",
    "check_movie = \" Hunger and Success\"\n",
    "\n",
    "if check_movie in movies :\n",
    "    print(\"Yes i watched the movie\" + check_movie )\n",
    "else:\n",
    "    print(\"No i did not watched the movie\" + check_movie )\n"
   ]
  },
  {
   "cell_type": "code",
   "execution_count": 8,
   "metadata": {},
   "outputs": [
    {
     "name": "stdout",
     "output_type": "stream",
     "text": [
      "yes the blue is in your fav set\n"
     ]
    }
   ],
   "source": [
    "my_fav_color={\"pink\",\"green\",\"blue\",\"black\",\"yellow\"}\n",
    "\n",
    "check_color =\"blue\"\n",
    "\n",
    "if check_color in my_fav_color:\n",
    "   print(\"yes the \"+check_color+\" is in your fav set\" )\n",
    "else:\n",
    "   print(\"no the \"+check_color+\" is not in your fav set\" )"
   ]
  },
  {
   "cell_type": "code",
   "execution_count": null,
   "metadata": {},
   "outputs": [],
   "source": []
  }
 ],
 "metadata": {
  "kernelspec": {
   "display_name": "Python 3 (ipykernel)",
   "language": "python",
   "name": "python3"
  },
  "language_info": {
   "codemirror_mode": {
    "name": "ipython",
    "version": 3
   },
   "file_extension": ".py",
   "mimetype": "text/x-python",
   "name": "python",
   "nbconvert_exporter": "python",
   "pygments_lexer": "ipython3",
   "version": "3.12.4"
  }
 },
 "nbformat": 4,
 "nbformat_minor": 4
}
