{
 "cells": [
  {
   "cell_type": "markdown",
   "metadata": {},
   "source": [
    "# Python_Lab_1.2"
   ]
  },
  {
   "cell_type": "markdown",
   "metadata": {},
   "source": [
    "### Task 1: \n",
    "1. Create a tuple with the following details:\n",
    "    - Your favorite movie (string)\n",
    "    - The year it was released (integer)\n",
    "    - Its rating out of 10 (float)\n",
    "    - Whether you have watched it (boolean)\n",
    "2. Print the detailes"
   ]
  },
  {
   "cell_type": "code",
   "execution_count": 2,
   "metadata": {},
   "outputs": [
    {
     "name": "stdout",
     "output_type": "stream",
     "text": [
      "Favorite Movie : The Lion King\n",
      "Year Released : 1994\n",
      "The Rating out of 10 : 8.5\n",
      "Watched : True\n"
     ]
    }
   ],
   "source": [
    "movieDeatil=(\"The Lion King\",1994,8.5,True)\n",
    "\n",
    "print(\"Favorite Movie :\", movieDeatil[0])\n",
    "print(\"Year Released :\", movieDeatil[1])\n",
    "print(\"The Rating out of 10 :\", movieDeatil[2])\n",
    "print(\"Watched :\", movieDeatil[3])"
   ]
  },
  {
   "cell_type": "markdown",
   "metadata": {},
   "source": [
    "### Task 2:\n",
    "1. Create a set of 5 favorite colors.\n",
    "2. Print all the colors"
   ]
  },
  {
   "cell_type": "code",
   "execution_count": 3,
   "metadata": {},
   "outputs": [
    {
     "name": "stdout",
     "output_type": "stream",
     "text": [
      "black\n",
      "white\n",
      "green\n",
      "red\n",
      "grey\n"
     ]
    }
   ],
   "source": [
    "favorite_colors={\"black\",\"white\",\"grey\",\"green\",\"red\"}\n",
    "for x in favorite_colors :\n",
    "    print(x)"
   ]
  },
  {
   "cell_type": "markdown",
   "metadata": {},
   "source": [
    "### Task 3:\n",
    "1. Create a dictionary to store information about 3 friends (name as key and a tuple with age and favorite hobby as value).\n",
    "2. Print the details of all friends."
   ]
  },
  {
   "cell_type": "code",
   "execution_count": 10,
   "metadata": {},
   "outputs": [
    {
     "name": "stdout",
     "output_type": "stream",
     "text": [
      "Friend Details:\n",
      "Name: ali, Age: 25, Favorite Hobby: football\n",
      "Name: khalid, Age: 27, Favorite Hobby: swimming\n",
      "Name: muhammed, Age: 28, Favorite Hobby: Playing games\n"
     ]
    }
   ],
   "source": [
    "info = {\n",
    "    \"ali\": (25, \"football\"),\n",
    "    \"khalid\": (27, \"swimming\"),\n",
    "    \"muhammed\": (28, \"Playing games\")\n",
    "}\n",
    "print(\"the  information of friends :\")\n",
    "\n",
    "for name, (age, hobby) in info.items():\n",
    "print(f\"Name : {name}, Age : {age}, Hobby : {hobby}\")\n",
    "    \n",
    "     "
   ]
  },
  {
   "cell_type": "markdown",
   "metadata": {},
   "source": [
    "### Task 4:\n",
    "1. Check if you have watched the movie and print an appropriate message.\n",
    "1. Check if a specific color is in your favorite colors set and print its availability status."
   ]
  },
  {
   "cell_type": "code",
   "execution_count": 15,
   "metadata": {},
   "outputs": [
    {
     "name": "stdout",
     "output_type": "stream",
     "text": [
      "watched the movie\n",
      "it is in favorite colors.\n"
     ]
    }
   ],
   "source": [
    "if movieDeatil [3]:\n",
    "    print (\"watched the movie\") \n",
    "else : \n",
    "        print (\"didn,t watch the movie\")\n",
    "\n",
    "Check_color = \"black\" \n",
    "\n",
    "if Check_color in favorite_colors :\n",
    "    print (\"it is in favorite colors.\")\n",
    "else : \n",
    "        print (\"the color is not in the favorite color.\")"
   ]
  },
  {
   "cell_type": "markdown",
   "metadata": {},
   "source": []
  }
 ],
 "metadata": {
  "kernelspec": {
   "display_name": "Python 3",
   "language": "python",
   "name": "python3"
  },
  "language_info": {
   "codemirror_mode": {
    "name": "ipython",
    "version": 3
   },
   "file_extension": ".py",
   "mimetype": "text/x-python",
   "name": "python",
   "nbconvert_exporter": "python",
   "pygments_lexer": "ipython3",
   "version": "3.11.9"
  }
 },
 "nbformat": 4,
 "nbformat_minor": 2
}
