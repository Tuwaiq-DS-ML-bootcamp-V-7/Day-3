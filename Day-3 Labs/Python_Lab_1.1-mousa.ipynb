{
 "cells": [
  {
   "cell_type": "markdown",
   "metadata": {},
   "source": [
    "# Python_Lab_1.1\n"
   ]
  },
  {
   "cell_type": "markdown",
   "metadata": {},
   "source": [
    "### Task 1\n",
    "1. Print a welcome message.\n",
    "2. Create variables to store the following details:\n",
    "    - Your name (string)\n",
    "    - Your age (integer)\n",
    "    - Your height (float)\n",
    "    - Whether you are a student (boolean)\n",
    "3. Print these details.\n"
   ]
  },
  {
   "cell_type": "code",
   "execution_count": 1,
   "metadata": {},
   "outputs": [
    {
     "name": "stdout",
     "output_type": "stream",
     "text": [
      "Welcome\n",
      "Your name is : mousa\n",
      "Your age is : 24\n",
      "Your height is : 181.8\n",
      "Are you Student : True\n"
     ]
    }
   ],
   "source": [
    "print(\"Welcome\")\n",
    "name=\"mousa\"\n",
    "age=24\n",
    "height=181.8\n",
    "student=True\n",
    "\n",
    "print(\"Your name is :\",name)\n",
    "print(\"Your age is :\",age)\n",
    "print(\"Your height is :\",height)\n",
    "print(\"Are you Student :\",student)"
   ]
  },
  {
   "cell_type": "markdown",
   "metadata": {},
   "source": [
    "### Task 2\n",
    " 1. Create a list of 5 favorite fruits.\n",
    " 2. Create a list with the price of each fruit.\n",
    " 3. Print the data types of these lists."
   ]
  },
  {
   "cell_type": "code",
   "execution_count": 2,
   "metadata": {},
   "outputs": [
    {
     "name": "stdout",
     "output_type": "stream",
     "text": [
      "The data types of priceis  <class 'list'>\n",
      "The data types of fruits is  <class 'list'>\n"
     ]
    }
   ],
   "source": [
    "fruits = [\"pineapple\",\"kiwi\",\"apple\",\"orange\",\"grapes\"]\n",
    "price = [10,8,5,3,9]\n",
    "print(\"The data types of priceis \",type(price))\n",
    "print(\"The data types of fruits is \",type(fruits))"
   ]
  },
  {
   "cell_type": "markdown",
   "metadata": {},
   "source": [
    "### Task 3\n",
    "1. Print the names of all fruits using a loop.\n",
    "2. Using a while loop and input built-in function, do the following:\n",
    "    - Ask the the user : \"what is the product of 7 * 24 ?\"\n",
    "    - check if the answer is right then exit the loop and print \"You answered this Question correctly\".\n",
    "    - if the answer is wrong, then print \"Your Answer is wrong try again..\" and show the user the question again.\n",
    "3. Build a program that takes one defined variable of type int, then it prints out the result formatted like the following pattern (if we give it 5 for example):\n",
    "\n",
    "    5 4 3 2 1\n",
    "\n",
    "    4 3 2 1\n",
    "\n",
    "    3 2 1\n",
    "\n",
    "    2 1\n",
    "    \n",
    "    1"
   ]
  },
  {
   "cell_type": "code",
   "execution_count": 3,
   "metadata": {},
   "outputs": [
    {
     "name": "stdout",
     "output_type": "stream",
     "text": [
      "pineapple\n",
      "kiwi\n",
      "apple\n",
      "orange\n",
      "grapes\n",
      "You answered this Question correctly\n",
      "5 4 3 2 1 \n",
      "4 3 2 1 \n",
      "3 2 1 \n",
      "2 1 \n",
      "1 \n"
     ]
    }
   ],
   "source": [
    "#1\n",
    "for fruitsName in fruits:\n",
    "    print (fruitsName)\n",
    "#2\n",
    "while True :\n",
    "    AskUser =input(\"what is the product of 7 * 24 ? : \")\n",
    "    answer = int(AskUser) #int type is important \n",
    "\n",
    "    if answer==(7*24):\n",
    "         print(\"You answered this Question correctly\")\n",
    "         break\n",
    "    else :\n",
    "        print(\"Your Answer is wrong try again..\")\n",
    "\n",
    "#3\n",
    "size_pattern=int(input(\"choose number:\")) # again int is important\n",
    "\n",
    "def pattern(n):\n",
    "    for i in range(n, 0, -1):\n",
    "        for j in range(i, 0, -1):\n",
    "            print(j, end=\" \")\n",
    "        print()\n",
    "        \n",
    "pattern(size_pattern)\n",
    "\n",
    "\n",
    "    "
   ]
  },
  {
   "cell_type": "markdown",
   "metadata": {},
   "source": [
    "### Task 4\n",
    "You want to recommend a movie to a friend based on the rating and popularity. To accomplish this do the following:\n",
    "\n",
    "- Create a variable for the movie (choose any movie you like).\n",
    "- Create a variable of type int to hold the rating of the movie out of 5. Give this movie rate = 3\n",
    "- Create a popularity score of type float, let it be 72.65\n",
    "- Using an if statement:\n",
    "    - Check if the movie rating is 4 or greater and the popularity is greater than 80, print \"Highly recommended\".\n",
    "    - Else if the movie rating is 3 or greater and the popularity is greater than 70, print \"I recommended it, It is good\".\n",
    "    - Else if the movie rating is 2 or less and the popularity is greater than 60, print \"You should check it out!\".\n",
    "    - Else the movie rating is 2 or less and the popularity is less than 50, print \"Don't watch it, It is a waste of time\"."
   ]
  },
  {
   "cell_type": "code",
   "execution_count": 5,
   "metadata": {},
   "outputs": [
    {
     "name": "stdout",
     "output_type": "stream",
     "text": [
      "I recommended it, It is good\n"
     ]
    }
   ],
   "source": [
    "movie = \"The Lion King\"\n",
    "rating = 3\n",
    "score = 72.65\n",
    "\n",
    "if rating >= 4 and score > 80:\n",
    "    print(\"Highly recommended\")\n",
    "elif rating >=3 and score > 70:\n",
    "    print(\"I recommended it, It is good\")\n",
    "elif rating <=2 and score > 60:\n",
    "    print(\"You should check it out!\")\n",
    "else: \n",
    "    print(\"Don't watch it, It is a waste of time\")\n",
    "    "
   ]
  }
 ],
 "metadata": {
  "kernelspec": {
   "display_name": "Python 3",
   "language": "python",
   "name": "python3"
  },
  "language_info": {
   "codemirror_mode": {
    "name": "ipython",
    "version": 3
   },
   "file_extension": ".py",
   "mimetype": "text/x-python",
   "name": "python",
   "nbconvert_exporter": "python",
   "pygments_lexer": "ipython3",
   "version": "3.11.9"
  }
 },
 "nbformat": 4,
 "nbformat_minor": 2
}
