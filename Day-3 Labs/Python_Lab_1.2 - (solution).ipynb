{
 "cells": [
  {
   "cell_type": "markdown",
   "metadata": {},
   "source": [
    "# Python_Lab_1.2 (solution)"
   ]
  },
  {
   "cell_type": "markdown",
   "metadata": {},
   "source": [
    "### Task 1: \n",
    "1. Create a tuple with the following details:\n",
    "    - Your favorite movie (string)\n",
    "    - The year it was released (integer)\n",
    "    - Its rating out of 10 (float)\n",
    "    - Whether you have watched it (boolean)\n",
    "2. Print the detailes"
   ]
  },
  {
   "cell_type": "code",
   "execution_count": 1,
   "metadata": {},
   "outputs": [
    {
     "name": "stdout",
     "output_type": "stream",
     "text": [
      "Favorite movie details:\n",
      "Movie: Inception\n",
      "Year Released: 2010\n",
      "Rating out of 10: 8.8\n",
      "Have watched: True\n"
     ]
    }
   ],
   "source": [
    "# Step 1: Create a tuple with the given details\n",
    "favorite_movie_details = (\"Inception\", 2010, 8.8, True)\n",
    "\n",
    "# Step 2: Print the details\n",
    "print(\"Favorite movie details:\")\n",
    "print(\"Movie:\", favorite_movie_details[0])\n",
    "print(\"Year Released:\", favorite_movie_details[1])\n",
    "print(\"Rating out of 10:\", favorite_movie_details[2])\n",
    "print(\"Have watched:\", favorite_movie_details[3])\n"
   ]
  },
  {
   "cell_type": "markdown",
   "metadata": {},
   "source": [
    "### Task 2:\n",
    "1. Create a set of 5 favorite colors.\n",
    "2. Print all the colors"
   ]
  },
  {
   "cell_type": "code",
   "execution_count": 2,
   "metadata": {},
   "outputs": [
    {
     "name": "stdout",
     "output_type": "stream",
     "text": [
      "Favorite colors:\n",
      "Blue\n",
      "Red\n",
      "Yellow\n",
      "Green\n",
      "Purple\n"
     ]
    }
   ],
   "source": [
    "# Step 1: Create a set of 5 favorite colors\n",
    "favorite_colors = {\"Blue\", \"Green\", \"Red\", \"Yellow\", \"Purple\"}\n",
    "\n",
    "# Step 2: Print all the colors\n",
    "print(\"Favorite colors:\")\n",
    "for color in favorite_colors:\n",
    "    print(color)\n"
   ]
  },
  {
   "cell_type": "markdown",
   "metadata": {},
   "source": [
    "### Task 3:\n",
    "1. Create a dictionary to store information about 3 friends (name as key and a tuple with age and favorite hobby as value).\n",
    "2. Print the details of all friends."
   ]
  },
  {
   "cell_type": "code",
   "execution_count": 3,
   "metadata": {},
   "outputs": [
    {
     "name": "stdout",
     "output_type": "stream",
     "text": [
      "Friends' details:\n",
      "Name: Alice, Age: 25, Favorite Hobby: Reading\n",
      "Name: Bob, Age: 30, Favorite Hobby: Cycling\n",
      "Name: Charlie, Age: 28, Favorite Hobby: Photography\n"
     ]
    }
   ],
   "source": [
    "# Step 1: Create a dictionary to store information about 3 friends\n",
    "friends_info = {\n",
    "    \"Alice\": (25, \"Reading\"),\n",
    "    \"Bob\": (30, \"Cycling\"),\n",
    "    \"Charlie\": (28, \"Photography\")\n",
    "}\n",
    "\n",
    "# Step 2: Print the details of all friends\n",
    "print(\"Friends' details:\")\n",
    "for name, details in friends_info.items():\n",
    "    age, hobby = details\n",
    "    print(f\"Name: {name}, Age: {age}, Favorite Hobby: {hobby}\")\n"
   ]
  },
  {
   "cell_type": "markdown",
   "metadata": {},
   "source": [
    "### Task 4:\n",
    "1. Check if you have watched the movie and print an appropriate message.\n",
    "1. Check if a specific color is in your favorite colors set and print its availability status."
   ]
  },
  {
   "cell_type": "code",
   "execution_count": 4,
   "metadata": {},
   "outputs": [
    {
     "name": "stdout",
     "output_type": "stream",
     "text": [
      "You have watched the movie.\n",
      "Blue is in your favorite colors set.\n"
     ]
    }
   ],
   "source": [
    "# Step 1: Check if you have watched the movie and print an appropriate message\n",
    "favorite_movie_details = (\"Inception\", 2010, 8.8, True)\n",
    "have_watched = favorite_movie_details[3]\n",
    "\n",
    "if have_watched:\n",
    "    print(\"You have watched the movie.\")\n",
    "else:\n",
    "    print(\"You have not watched the movie.\")\n",
    "\n",
    "# Step 2: Check if a specific color is in your favorite colors set and print its availability status\n",
    "favorite_colors = {\"Blue\", \"Green\", \"Red\", \"Yellow\", \"Purple\"}\n",
    "specific_color = \"Blue\"\n",
    "\n",
    "if specific_color in favorite_colors:\n",
    "    print(f\"{specific_color} is in your favorite colors set.\")\n",
    "else:\n",
    "    print(f\"{specific_color} is not in your favorite colors set.\")\n"
   ]
  },
  {
   "cell_type": "markdown",
   "metadata": {},
   "source": []
  }
 ],
 "metadata": {
  "kernelspec": {
   "display_name": "Python 3",
   "language": "python",
   "name": "python3"
  },
  "language_info": {
   "codemirror_mode": {
    "name": "ipython",
    "version": 3
   },
   "file_extension": ".py",
   "mimetype": "text/x-python",
   "name": "python",
   "nbconvert_exporter": "python",
   "pygments_lexer": "ipython3",
   "version": "3.9.12"
  }
 },
 "nbformat": 4,
 "nbformat_minor": 2
}
