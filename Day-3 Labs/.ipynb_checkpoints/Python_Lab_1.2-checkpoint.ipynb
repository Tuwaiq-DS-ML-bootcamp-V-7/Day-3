{
 "cells": [
  {
   "cell_type": "markdown",
   "metadata": {},
   "source": [
    "# Python_Lab_1.2"
   ]
  },
  {
   "cell_type": "markdown",
   "metadata": {},
   "source": [
    "### Task 1: \n",
    "1. Create a tuple with the following details:\n",
    "    - Your favorite movie (string)\n",
    "    - The year it was released (integer)\n",
    "    - Its rating out of 10 (float)\n",
    "    - Whether you have watched it (boolean)\n",
    "2. Print the detailes"
   ]
  },
  {
   "cell_type": "code",
   "execution_count": 2,
   "metadata": {},
   "outputs": [
    {
     "name": "stdout",
     "output_type": "stream",
     "text": [
      "Favorite Movie: toy story 1\n",
      "Year Released: 1994\n",
      "Rating: 9.3\n",
      "Watched: True\n"
     ]
    }
   ],
   "source": [
    "favorite_movie_details = (\"toy story 1\", 1994, 9.3, True)\n",
    "\n",
    "favorite_movie = favorite_movie_details[0]\n",
    "release_year = favorite_movie_details[1]\n",
    "rating = favorite_movie_details[2]\n",
    "watched = favorite_movie_details[3]\n",
    "\n",
    "\n",
    "print(\"Favorite Movie:\", favorite_movie)\n",
    "print(\"Year Released:\", release_year)\n",
    "print(\"Rating:\", rating)\n",
    "print(\"Watched:\", watched)"
   ]
  },
  {
   "cell_type": "markdown",
   "metadata": {},
   "source": [
    "### Task 2:\n",
    "1. Create a set of 5 favorite colors.\n",
    "2. Print all the colors"
   ]
  },
  {
   "cell_type": "code",
   "execution_count": 3,
   "metadata": {},
   "outputs": [
    {
     "name": "stdout",
     "output_type": "stream",
     "text": [
      "Green\n",
      "Yellow\n",
      "Red\n",
      "White\n",
      "Black\n"
     ]
    }
   ],
   "source": [
    "favorite_colors = {\"White\", \"Green\", \"Red\", \"Black\", \"Yellow\"}\n",
    "\n",
    "for color in favorite_colors:\n",
    "    print(color)"
   ]
  },
  {
   "cell_type": "markdown",
   "metadata": {},
   "source": [
    "### Task 3:\n",
    "1. Create a dictionary to store information about 3 friends (name as key and a tuple with age and favorite hobby as value).\n",
    "2. Print the details of all friends."
   ]
  },
  {
   "cell_type": "code",
   "execution_count": 4,
   "metadata": {},
   "outputs": [
    {
     "name": "stdout",
     "output_type": "stream",
     "text": [
      "Ahmed:\n",
      "Age: 25\n",
      "Favorite Hobby: Video games\n",
      "\n",
      "Abdurhman:\n",
      "Age: 20\n",
      "Favorite Hobby: video games\n",
      "\n",
      "Charlie:\n",
      "Age: 28\n",
      "Favorite Hobby: Cooking\n",
      "\n"
     ]
    }
   ],
   "source": [
    "friends_info = {\n",
    "    \"Ahmed\": (25, \"Video games\"),\n",
    "    \"Abdurhman\": (20, \"video games\"),\n",
    "    \"Charlie\": (28, \"Cooking\")\n",
    "}\n",
    "\n",
    "\n",
    "for friend, info in friends_info.items():\n",
    "    print(friend + \":\")\n",
    "    print(\"Age:\", info[0])\n",
    "    print(\"Favorite Hobby:\", info[1])\n",
    "    print()"
   ]
  },
  {
   "cell_type": "markdown",
   "metadata": {},
   "source": [
    "### Task 4:\n",
    "1. Check if you have watched the movie and print an appropriate message.\n",
    "1. Check if a specific color is in your favorite colors set and print its availability status."
   ]
  },
  {
   "cell_type": "code",
   "execution_count": 6,
   "metadata": {},
   "outputs": [
    {
     "name": "stdout",
     "output_type": "stream",
     "text": [
      "You have watched the movie: The Shawshank Redemption\n",
      "Red is in your favorite colors.\n"
     ]
    }
   ],
   "source": [
    "\n",
    "favorite_movie_details = (\"The Shawshank Redemption\", 1994, 9.3, True)\n",
    "\n",
    "\n",
    "favorite_colors = {\"White\", \"Green\", \"Red\", \"Black\", \"Yellow\"}\n",
    "\n",
    "\n",
    "\n",
    "if favorite_movie_details[3]:\n",
    "    print(\"You have watched the movie:\", favorite_movie_details[0])\n",
    "else:\n",
    "    print(\"You have not watched the movie:\", favorite_movie_details[0])\n",
    "\n",
    "\n",
    "specific_color = \"Red\"\n",
    "if specific_color in favorite_colors:\n",
    "    print(f\"{specific_color} is in your favorite colors.\")\n",
    "else:\n",
    "    print(f\"{specific_color} is not in your favorite colors.\")"
   ]
  },
  {
   "cell_type": "markdown",
   "metadata": {},
   "source": []
  }
 ],
 "metadata": {
  "kernelspec": {
   "display_name": "Python 3 (ipykernel)",
   "language": "python",
   "name": "python3"
  },
  "language_info": {
   "codemirror_mode": {
    "name": "ipython",
    "version": 3
   },
   "file_extension": ".py",
   "mimetype": "text/x-python",
   "name": "python",
   "nbconvert_exporter": "python",
   "pygments_lexer": "ipython3",
   "version": "3.11.4"
  }
 },
 "nbformat": 4,
 "nbformat_minor": 2
}
